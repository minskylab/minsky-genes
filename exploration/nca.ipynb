{
 "cells": [
  {
   "cell_type": "code",
   "execution_count": 7,
   "metadata": {},
   "outputs": [],
   "source": [
    "import numpy as np\n",
    "\n",
    "# import tensorflow as tf\n",
    "from tensorflow.python.keras.layers import Conv2D\n",
    "from tensorflow.python.ops.nn import max_pool2d, depthwise_conv2d\n",
    "from tensorflow.python.keras.models import Model\n",
    "from tensorflow.python.keras import Sequential\n",
    "from tensorflow.python.keras.activations import relu\n",
    "from tensorflow import function as tf_function, cos, sin, stack, repeat, shape, cast, float32, random\n",
    "from tensorflow import zeros_initializer, zeros\n",
    "from matplotlib import pyplot as plt"
   ]
  },
  {
   "cell_type": "markdown",
   "metadata": {},
   "source": []
  },
  {
   "cell_type": "code",
   "execution_count": 39,
   "metadata": {},
   "outputs": [
    {
     "name": "stdout",
     "output_type": "stream",
     "text": [
      "Model: \"sequential_26\"\n",
      "_________________________________________________________________\n",
      "Layer (type)                 Output Shape              Param #   \n",
      "=================================================================\n",
      "conv2d_52 (Conv2D)           (1, 3, 3, 128)            6272      \n",
      "_________________________________________________________________\n",
      "conv2d_53 (Conv2D)           (1, 3, 3, 16)             2064      \n",
      "=================================================================\n",
      "Total params: 8,336\n",
      "Trainable params: 8,336\n",
      "Non-trainable params: 0\n",
      "_________________________________________________________________\n"
     ]
    }
   ],
   "source": [
    "\n",
    "\n",
    "CHANNEL_N = 16        # Number of CA state channels\n",
    "TARGET_PADDING = 16   # Number of pixels used to pad the target image border\n",
    "TARGET_SIZE = 40\n",
    "BATCH_SIZE = 8\n",
    "POOL_SIZE = 1024\n",
    "CELL_FIRE_RATE = 0.5\n",
    "\n",
    "\n",
    "class CAModel(Model):\n",
    "  def __init__(self, channel_n=CHANNEL_N, fire_rate=CELL_FIRE_RATE):\n",
    "    super().__init__()\n",
    "    self.channel_n = channel_n\n",
    "    self.fire_rate = fire_rate\n",
    "\n",
    "    self.dmodel = Sequential([\n",
    "          Conv2D(128, 1, activation=relu),\n",
    "          Conv2D(self.channel_n, 1, activation=None, kernel_initializer=random.uniform),\n",
    "    ])\n",
    "\n",
    "    self(zeros([1, 3, 3, channel_n]))  # dummy call to build the model\n",
    "\n",
    "  def get_living_mask(self, x):\n",
    "    alpha = x[:, :, :, 3:4]\n",
    "    return max_pool2d(alpha, 3, [1, 1, 1, 1], 'SAME') > 0.1\n",
    "\n",
    "\n",
    "  @tf_function\n",
    "  def perceive(self, x, angle=0.0):\n",
    "    identify = np.float32([0, 1, 0])\n",
    "    identify = np.outer(identify, identify)\n",
    "    dx = np.outer([1, 2, 1], [-1, 0, 1]) / 8.0  # Sobel filter\n",
    "    dy = dx.T\n",
    "    c, s = cos(angle), sin(angle)\n",
    "    kernel = stack([identify, c*dx-s*dy, s*dx+c*dy], -1)[:, :, None, :]\n",
    "    kernel = repeat(kernel, self.channel_n, 2)\n",
    "\n",
    "    y = depthwise_conv2d(x, kernel, [1, 1, 1, 1], 'SAME')\n",
    "    return y\n",
    "\n",
    "  @tf_function\n",
    "  def call(self, x, fire_rate=None, angle=0.0, step_size=1.0):\n",
    "    pre_life_mask = self.get_living_mask(x)\n",
    "\n",
    "    y = self.perceive(x, angle)\n",
    "    dx = self.dmodel(y)*step_size\n",
    "    if fire_rate is None:\n",
    "      fire_rate = self.fire_rate\n",
    "    update_mask = random.uniform(shape(x[:, :, :, :1])) <= fire_rate\n",
    "    x += dx * cast(update_mask, float32)\n",
    "\n",
    "    post_life_mask = self.get_living_mask(x)\n",
    "    life_mask = pre_life_mask & post_life_mask\n",
    "    return x * cast(life_mask, float32)\n",
    "\n",
    "\n",
    "CAModel().dmodel.summary()"
   ]
  },
  {
   "cell_type": "code",
   "execution_count": null,
   "metadata": {},
   "outputs": [],
   "source": []
  },
  {
   "cell_type": "code",
   "execution_count": 47,
   "metadata": {},
   "outputs": [
    {
     "name": "stderr",
     "output_type": "stream",
     "text": [
      "Clipping input data to the valid range for imshow with RGB data ([0..1] for floats or [0..255] for integers).\n"
     ]
    },
    {
     "data": {
      "text/plain": [
       "<matplotlib.image.AxesImage at 0x7fd93e2fb760>"
      ]
     },
     "execution_count": 47,
     "metadata": {},
     "output_type": "execute_result"
    },
    {
     "data": {
      "image/png": "[encoded data removed]",
      "text/plain": [
       "<Figure size 432x288 with 1 Axes>"
      ]
     },
     "metadata": {
      "needs_background": "light"
     },
     "output_type": "display_data"
    }
   ],
   "source": [
    "model = CAModel()\n",
    "\n",
    "state = np.float32(np.zeros(shape=(1, 255, 255, CHANNEL_N)))\n",
    "state[0, 128, 128, :] = 1.0\n",
    "\n",
    "plt.imshow(state[0, :, :, :3])\n",
    "for i in range(60):\n",
    "    state = model(state)\n",
    "\n",
    "plt.imshow(state[0, :, :, :3])"
   ]
  },
  {
   "cell_type": "code",
   "execution_count": null,
   "metadata": {},
   "outputs": [],
   "source": []
  },
  {
   "cell_type": "code",
   "execution_count": null,
   "metadata": {},
   "outputs": [],
   "source": []
  },
  {
   "cell_type": "code",
   "execution_count": null,
   "metadata": {},
   "outputs": [],
   "source": []
  },
  {
   "cell_type": "code",
   "execution_count": null,
   "metadata": {},
   "outputs": [],
   "source": []
  },
  {
   "cell_type": "code",
   "execution_count": null,
   "metadata": {},
   "outputs": [],
   "source": []
  },
  {
   "cell_type": "code",
   "execution_count": null,
   "metadata": {},
   "outputs": [],
   "source": [
    "\n"
   ]
  },
  {
   "cell_type": "code",
   "execution_count": null,
   "metadata": {},
   "outputs": [],
   "source": []
  },
  {
   "cell_type": "code",
   "execution_count": null,
   "metadata": {},
   "outputs": [],
   "source": []
  }
 ],
 "metadata": {
  "interpreter": {
   "hash": "4f1a60f7d96fdf3f1ed21304e8d3119ea91da68fa1c8f116b19ad06e235872d9"
  },
  "kernelspec": {
   "display_name": "Python 3.9.0 ('minsky-genes-LUvrchmE-py3.9')",
   "language": "python",
   "name": "python3"
  },
  "language_info": {
   "codemirror_mode": {
    "name": "ipython",
    "version": 3
   },
   "file_extension": ".py",
   "mimetype": "text/x-python",
   "name": "python",
   "nbconvert_exporter": "python",
   "pygments_lexer": "ipython3",
   "version": "3.9.0"
  },
  "orig_nbformat": 4
 },
 "nbformat": 4,
 "nbformat_minor": 2
}
